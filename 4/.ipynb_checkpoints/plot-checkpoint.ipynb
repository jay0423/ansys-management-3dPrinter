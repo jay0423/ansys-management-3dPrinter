{
 "cells": [
  {
   "cell_type": "code",
   "execution_count": 1,
   "id": "108e1fef",
   "metadata": {},
   "outputs": [],
   "source": [
    "import matplotlib.pyplot as plt\n",
    "\n",
    "import math"
   ]
  },
  {
   "cell_type": "code",
   "execution_count": 2,
   "id": "0f62d8b1",
   "metadata": {},
   "outputs": [],
   "source": [
    "def rot_x(p_list):\n",
    "    Cx = X1/2\n",
    "    Cy = P_y/2\n",
    "    new_p_list = []\n",
    "    for p in p_list:\n",
    "        new_p_list.append(-p + 2*Cx)\n",
    "    return new_p_list\n",
    "\n",
    "def rot_y(p_list):\n",
    "    Cx = X1/2\n",
    "    Cy = P_y/2\n",
    "    new_p_list = []\n",
    "    for p in p_list:\n",
    "        new_p_list.append(-p + 2*Cy)\n",
    "    return new_p_list\n",
    "\n",
    "def plot_fill(ax, x_list_list, y_list_list):\n",
    "    for x_list, y_list in zip(x_list_list, y_list_list):\n",
    "        ax.fill(x_list,y_list,alpha=0.5)\n",
    "\n",
    "        new_x_list = rot_x(x_list)\n",
    "        new_y_list = rot_y(y_list)\n",
    "        ax.fill(new_x_list, new_y_list,alpha=0.5)\n",
    "    plt.show()"
   ]
  },
  {
   "cell_type": "code",
   "execution_count": null,
   "id": "ba9b5af6",
   "metadata": {},
   "outputs": [],
   "source": []
  }
 ],
 "metadata": {
  "kernelspec": {
   "display_name": "Python 3",
   "language": "python",
   "name": "python3"
  },
  "language_info": {
   "codemirror_mode": {
    "name": "ipython",
    "version": 3
   },
   "file_extension": ".py",
   "mimetype": "text/x-python",
   "name": "python",
   "nbconvert_exporter": "python",
   "pygments_lexer": "ipython3",
   "version": "3.8.8"
  }
 },
 "nbformat": 4,
 "nbformat_minor": 5
}
