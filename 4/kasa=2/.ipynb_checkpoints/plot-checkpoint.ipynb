{
 "cells": [
  {
   "cell_type": "code",
   "execution_count": 3,
   "id": "b3ac09c2",
   "metadata": {},
   "outputs": [],
   "source": [
    "import matplotlib.pyplot as plt\n",
    "\n",
    "import math"
   ]
  },
  {
   "cell_type": "code",
   "execution_count": 136,
   "id": "0fe3745f",
   "metadata": {},
   "outputs": [],
   "source": [
    "def rot_x(p_list):\n",
    "    Cx = X1/2\n",
    "    Cy = P_y/2\n",
    "    new_p_list = []\n",
    "    for p in p_list:\n",
    "        new_p_list.append(-p + 2*Cx)\n",
    "    return new_p_list\n",
    "\n",
    "def rot_y(p_list):\n",
    "    Cx = X1/2\n",
    "    Cy = P_y/2\n",
    "    new_p_list = []\n",
    "    for p in p_list:\n",
    "        new_p_list.append(-p + 2*Cy)\n",
    "    return new_p_list\n",
    "\n",
    "def plot_fill(ax, x_list_list, y_list_list):\n",
    "    for x_list, y_list in zip(x_list_list, y_list_list):\n",
    "        ax.fill(x_list,y_list,alpha=0.5)\n",
    "\n",
    "        new_x_list = rot_x(x_list)\n",
    "        new_y_list = rot_y(y_list)\n",
    "        ax.fill(new_x_list, new_y_list,alpha=0.5)\n",
    "    plt.show()"
   ]
  },
  {
   "cell_type": "code",
   "execution_count": 143,
   "id": "2c870734",
   "metadata": {},
   "outputs": [
    {
     "data": {
      "image/png": "[encoded data removed]",
      "text/plain": [
       "<Figure size 1152x576 with 1 Axes>"
      ]
     },
     "metadata": {
      "needs_background": "light"
     },
     "output_type": "display_data"
    }
   ],
   "source": [
    "fig = plt.figure(figsize=(16, 8))\n",
    "\n",
    "ax = fig.add_subplot(111)\n",
    "ax.set_xlim(-0.01, X1)\n",
    "ax.set_ylim(0, P_y)\n",
    "\n",
    "plt.gca().set_aspect('equal', adjustable='box')\n",
    "\n",
    "\n",
    "\n",
    "X1 = 100E-3 # 試験片長さ\n",
    "# Y1\t=\t25E-3\n",
    "Z1 = 5E-3\n",
    "P_y = 14E-3 # PLAのy幅\n",
    "\n",
    "E_y = 12E-3 # Epoxyのy幅\n",
    "E_z = 3E-3 # Epoxyのz幅\n",
    "\n",
    "CF_lap = 20E-3 # CFRPの重ね継ぎ手長さ\n",
    "CF_len = (X1 + CF_lap) / 2 # CFRP1本あたりの長さ\n",
    "CF_y = 1.8E-3 # CFRPの高さ\n",
    "CF_z = CF_y # CFRPの幅\n",
    "CF_gap = 1.0E-3 # CFRP間の距離\n",
    "Y4 = P_y/2 - CF_gap/2 - CF_z #CFRP1の初期位置\n",
    "Y5 = P_y/2 + CF_gap/2 #CFRP2の初期位置\n",
    "\n",
    "K_sita_do = 15 #角度\n",
    "K_sita = K_sita_do / (1/3.141592) / 180\n",
    "K_x = ((P_y-CF_y)/2 - (P_y-E_y)/2) / math.tan(K_sita) # CFRP傘部分長さ\n",
    "K_h = 0.8E-3 # CFRPの傘の幅\n",
    "K_a = K_h/math.sin(K_sita) #CFRP傘の角度θの幅\n",
    "K_b = K_h/math.cos(K_sita) #CFRP傘の角度θの幅2\n",
    "\n",
    "K_s = X1 - CF_len - ((CF_gap + CF_y) / math.tan(K_sita)) - (K_h / math.sin(K_sita))\n",
    "alpha = 0.1E-3\n",
    "\n",
    "\n",
    "x_cfrp = [0, 0, CF_len, CF_len]\n",
    "y_cfrp= [Y4, Y4+CF_y, Y4+CF_y, Y4]\n",
    "\n",
    "x_naname1 = [K_s, K_a + K_s, K_x + K_s, K_x + K_s]\n",
    "y_naname1 = [Y4, Y4, (P_y - E_y)/2 + K_b + alpha, (P_y - E_y)/2 + alpha]\n",
    "\n",
    "x_naname2 = [K_s, K_x + K_s, K_x + K_s, K_a + K_s]\n",
    "y_naname2 = [Y4 + CF_y, P_y - (P_y - E_y)/2 - alpha, P_y - (P_y - E_y)/2 - K_b - alpha, Y4 + CF_y]\n",
    "\n",
    "x_list_list = [x_cfrp, x_naname1, x_naname2]\n",
    "y_list_list = [y_cfrp, y_naname1, y_naname2]\n",
    "\n",
    "\n",
    "plot_fill(ax, x_list_list, y_list_list)"
   ]
  },
  {
   "cell_type": "code",
   "execution_count": 197,
   "id": "5b243a52",
   "metadata": {},
   "outputs": [
    {
     "data": {
      "image/png": "[encoded data removed]",
      "text/plain": [
       "<Figure size 1152x576 with 1 Axes>"
      ]
     },
     "metadata": {
      "needs_background": "light"
     },
     "output_type": "display_data"
    }
   ],
   "source": [
    "fig = plt.figure(figsize=(16, 8))\n",
    "\n",
    "ax = fig.add_subplot(111)\n",
    "ax.set_xlim(-0.01, X1)\n",
    "ax.set_ylim(0, P_y)\n",
    "\n",
    "plt.gca().set_aspect('equal', adjustable='box')\n",
    "\n",
    "\n",
    "\n",
    "X1 = 100E-3 # 試験片長さ\n",
    "# Y1\t=\t25E-3\n",
    "Z1 = 5E-3\n",
    "P_y = 14E-3 # PLAのy幅\n",
    "\n",
    "E_y = 12E-3 # Epoxyのy幅\n",
    "E_z = 3E-3 # Epoxyのz幅\n",
    "\n",
    "CF_lap = 20E-3 # CFRPの重ね継ぎ手長さ\n",
    "CF_len = (X1 + CF_lap) / 2 # CFRP1本あたりの長さ\n",
    "CF_y = 1.8E-3 # CFRPの高さ\n",
    "CF_z = CF_y # CFRPの幅\n",
    "CF_gap = 0E-3 # CFRP間の距離\n",
    "Y4 = P_y/2 - CF_gap/2 - CF_z #CFRP1の初期位置\n",
    "Y5 = P_y/2 + CF_gap/2 #CFRP2の初期位置\n",
    "\n",
    "\n",
    "ch_dis = 15E-3 # cfrpが細くなってから継ぎ手部分を差し引いた距離\n",
    "L_naname = 20E-3 # cfrpの斜め繊維の長さ\n",
    "alpha = 0.5E-3 # plaと斜め繊維先端のy方向距離\n",
    "X_hoso_fir = CF_len - CF_lap - ch_dis # 細いcfrpのx座標\n",
    "H_cf_hoso = CF_y * 0.333 #. 細いcfrpの幅\n",
    "H_cf_naname = (CF_y-H_cf_hoso)/2 # 斜め方向cfrpの幅\n",
    "# cfrp斜め繊維1つ目\n",
    "sita1 = math.asin((((P_y+E_y)/2-(Y4+CF_y))-alpha)/L_naname)\n",
    "X_naname_top1 = L_naname * math.cos(sita1) + X_hoso_fir\n",
    "Y_naname_top1 = L_naname * math.sin(sita1) + Y4+H_cf_naname+H_cf_hoso\n",
    "# cfrp斜め繊維２つ目\n",
    "sita2 = math.asin((Y4-(P_y-E_y)/2-alpha)/L_naname)\n",
    "X_naname_top2 = L_naname * math.cos(sita2) + X_hoso_fir\n",
    "Y_naname_top2 = Y4 - L_naname * math.sin(sita2)\n",
    "\n",
    "\n",
    "\n",
    "## pla\n",
    "x_pla = [0, 0, X1, X1]\n",
    "y_pla = [(P_y+E_y)/2, P_y, P_y, (P_y+E_y)/2]\n",
    "##\n",
    "\n",
    "x_cfrp = [0, 0, X_hoso_fir, X_hoso_fir]\n",
    "y_cfrp= [Y4, Y4+CF_y, Y4+CF_y, Y4]\n",
    "\n",
    "x_cfrp_hoso = [X_hoso_fir, X_hoso_fir, CF_len, CF_len]\n",
    "y_cfrp_hoso= [Y4+H_cf_naname, Y4+H_cf_naname+H_cf_hoso, Y4+H_cf_naname+H_cf_hoso, Y4+H_cf_naname]\n",
    "\n",
    "x_cfrp_naname1 = [X_hoso_fir, X_hoso_fir, X_naname_top1, X_naname_top1]\n",
    "y_cfrp_naname1= [Y4+H_cf_naname+H_cf_hoso, Y4+CF_y, Y_naname_top1+H_cf_naname/math.cos(sita1), Y_naname_top1]\n",
    "\n",
    "x_cfrp_naname2 = [X_hoso_fir, X_hoso_fir, X_naname_top2, X_naname_top2]\n",
    "y_cfrp_naname2= [Y4, Y4+H_cf_naname, Y_naname_top2+H_cf_naname/math.cos(sita2), Y_naname_top2]\n",
    "\n",
    "\n",
    "x_list_list = [x_pla, x_cfrp, x_cfrp_hoso, x_cfrp_naname1, x_cfrp_naname2]\n",
    "y_list_list = [y_pla, y_cfrp, y_cfrp_hoso, y_cfrp_naname1, y_cfrp_naname2]\n",
    "\n",
    "\n",
    "plot_fill(ax, x_list_list, y_list_list)"
   ]
  },
  {
   "cell_type": "code",
   "execution_count": 171,
   "id": "1adbf52b",
   "metadata": {},
   "outputs": [
    {
     "data": {
      "text/plain": [
       "60.0"
      ]
     },
     "execution_count": 171,
     "metadata": {},
     "output_type": "execute_result"
    }
   ],
   "source": [
    "math.acos(math.cos(60*3.14/180))*180/3.14"
   ]
  }
 ],
 "metadata": {
  "kernelspec": {
   "display_name": "Python 3",
   "language": "python",
   "name": "python3"
  },
  "language_info": {
   "codemirror_mode": {
    "name": "ipython",
    "version": 3
   },
   "file_extension": ".py",
   "mimetype": "text/x-python",
   "name": "python",
   "nbconvert_exporter": "python",
   "pygments_lexer": "ipython3",
   "version": "3.8.8"
  }
 },
 "nbformat": 4,
 "nbformat_minor": 5
}
