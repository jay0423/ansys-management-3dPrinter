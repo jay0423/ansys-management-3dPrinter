{
 "cells": [
  {
   "cell_type": "code",
   "execution_count": 1,
   "id": "108e1fef",
   "metadata": {},
   "outputs": [],
   "source": [
    "import matplotlib.pyplot as plt\n",
    "\n",
    "import math"
   ]
  },
  {
   "cell_type": "code",
   "execution_count": 2,
   "id": "0f62d8b1",
   "metadata": {},
   "outputs": [],
   "source": [
    "def rot_x(p_list):\n",
    "    Cx = X1/2\n",
    "    Cy = P_y/2\n",
    "    new_p_list = []\n",
    "    for p in p_list:\n",
    "        new_p_list.append(-p + 2*Cx)\n",
    "    return new_p_list\n",
    "\n",
    "def rot_y(p_list):\n",
    "    Cx = X1/2\n",
    "    Cy = P_y/2\n",
    "    new_p_list = []\n",
    "    for p in p_list:\n",
    "        new_p_list.append(-p + 2*Cy)\n",
    "    return new_p_list\n",
    "\n",
    "def plot_fill(ax, x_list_list, y_list_list):\n",
    "    for x_list, y_list in zip(x_list_list, y_list_list):\n",
    "        ax.fill(x_list,y_list,alpha=0.5)\n",
    "\n",
    "        new_x_list = rot_x(x_list)\n",
    "        new_y_list = rot_y(y_list)\n",
    "        ax.fill(new_x_list, new_y_list,alpha=0.5)\n",
    "    plt.show()"
   ]
  },
  {
   "cell_type": "code",
   "execution_count": 5,
   "id": "4b6978fe",
   "metadata": {},
   "outputs": [
    {
     "ename": "NameError",
     "evalue": "name 'P_y' is not defined",
     "output_type": "error",
     "traceback": [
      "\u001b[0;31m---------------------------------------------------------------------------\u001b[0m",
      "\u001b[0;31mNameError\u001b[0m                                 Traceback (most recent call last)",
      "\u001b[0;32m<ipython-input-5-2d8f02224ab0>\u001b[0m in \u001b[0;36m<module>\u001b[0;34m\u001b[0m\n\u001b[1;32m     16\u001b[0m \u001b[0;31m## pla\u001b[0m\u001b[0;34m\u001b[0m\u001b[0;34m\u001b[0m\u001b[0;34m\u001b[0m\u001b[0m\n\u001b[1;32m     17\u001b[0m \u001b[0mx_pla\u001b[0m \u001b[0;34m=\u001b[0m \u001b[0;34m[\u001b[0m\u001b[0;36m0\u001b[0m\u001b[0;34m,\u001b[0m \u001b[0;36m0\u001b[0m\u001b[0;34m,\u001b[0m \u001b[0mX1\u001b[0m\u001b[0;34m,\u001b[0m \u001b[0mX1\u001b[0m\u001b[0;34m]\u001b[0m\u001b[0;34m\u001b[0m\u001b[0;34m\u001b[0m\u001b[0m\n\u001b[0;32m---> 18\u001b[0;31m \u001b[0my_pla\u001b[0m \u001b[0;34m=\u001b[0m \u001b[0;34m[\u001b[0m\u001b[0;34m(\u001b[0m\u001b[0mP_y\u001b[0m\u001b[0;34m+\u001b[0m\u001b[0mE_y\u001b[0m\u001b[0;34m)\u001b[0m\u001b[0;34m/\u001b[0m\u001b[0;36m2\u001b[0m\u001b[0;34m,\u001b[0m \u001b[0mP_y\u001b[0m\u001b[0;34m,\u001b[0m \u001b[0mP_y\u001b[0m\u001b[0;34m,\u001b[0m \u001b[0;34m(\u001b[0m\u001b[0mP_y\u001b[0m\u001b[0;34m+\u001b[0m\u001b[0mE_y\u001b[0m\u001b[0;34m)\u001b[0m\u001b[0;34m/\u001b[0m\u001b[0;36m2\u001b[0m\u001b[0;34m]\u001b[0m\u001b[0;34m\u001b[0m\u001b[0;34m\u001b[0m\u001b[0m\n\u001b[0m\u001b[1;32m     19\u001b[0m \u001b[0;31m##\u001b[0m\u001b[0;34m\u001b[0m\u001b[0;34m\u001b[0m\u001b[0;34m\u001b[0m\u001b[0m\n\u001b[1;32m     20\u001b[0m \u001b[0;34m\u001b[0m\u001b[0m\n",
      "\u001b[0;31mNameError\u001b[0m: name 'P_y' is not defined"
     ]
    }
   ],
   "source": [
    "X1 = 100E-3 #試験片長さ\n",
    "Z1 = 5E-3 #PLA厚さ\n",
    "E_y = 12E-3 #エポキシ部の長さ\n",
    "P_y = 14E-3 #PLA横の長さ\n",
    "E_z = 3E-3 #エポキシ部の厚さ\n",
    "\n",
    "CF_lap = 20E-3 # CFRPの重ね継ぎ手長さ\n",
    "CF_len = (X1 + CF_lap) / 2 #CFRP長さ\n",
    "CF_y = 1.8E-3 #CFRPの厚さ\n",
    "CF_z = CF_y #CFRPの横長さ(正方形)\n",
    "CF_gap = 1.0E-3 # CFRP間の距離\n",
    "Y4 = P_y/2 - CF_gap/2 - CF_z #CFRP1の初期位置\n",
    "Y5 = P_y/2 + CF_gap/2 #CFRP2の初期位置\n",
    "\n",
    "\n",
    "## pla\n",
    "x_pla = [0, 0, X1, X1]\n",
    "y_pla = [(P_y+E_y)/2, P_y, P_y, (P_y+E_y)/2]\n",
    "##\n",
    "\n",
    "\n",
    "x_cfrp = [0, 0, CF_len, CF_len]\n",
    "y_cfrp= [Y4, Y4+CF_y, Y4+CF_y, Y4]\n",
    "\n",
    "x_cfrp_hoso = [X_hoso_fir, X_hoso_fir, CF_len, CF_len]\n",
    "y_cfrp_hoso= [Y4+H_cf_naname, Y4+H_cf_naname+H_cf_hoso, Y4+H_cf_naname+H_cf_hoso, Y4+H_cf_naname]\n",
    "\n",
    "x_cfrp_naname1 = [X_hoso_fir, X_hoso_fir, X_naname_top1, X_naname_top1]\n",
    "y_cfrp_naname1= [Y4+H_cf_naname+H_cf_hoso, Y4+CF_y, Y_naname_top1+H_cf_naname/math.cos(sita1), Y_naname_top1]\n",
    "\n",
    "x_cfrp_naname2 = [X_hoso_fir, X_hoso_fir, X_naname_top2, X_naname_top2]\n",
    "y_cfrp_naname2= [Y4, Y4+H_cf_naname, Y_naname_top2+H_cf_naname/math.cos(sita2), Y_naname_top2]\n",
    "\n",
    "x_list_list = [x_pla, x_cfrp]\n",
    "y_list_list = [y_pla, y_cfrp]\n",
    "\n",
    "\n",
    "plot_fill(ax, x_list_list, y_list_list)"
   ]
  },
  {
   "cell_type": "code",
   "execution_count": null,
   "id": "b07cadad",
   "metadata": {},
   "outputs": [],
   "source": []
  }
 ],
 "metadata": {
  "kernelspec": {
   "display_name": "Python 3",
   "language": "python",
   "name": "python3"
  },
  "language_info": {
   "codemirror_mode": {
    "name": "ipython",
    "version": 3
   },
   "file_extension": ".py",
   "mimetype": "text/x-python",
   "name": "python",
   "nbconvert_exporter": "python",
   "pygments_lexer": "ipython3",
   "version": "3.8.8"
  }
 },
 "nbformat": 4,
 "nbformat_minor": 5
}
